{
 "cells": [
  {
   "cell_type": "markdown",
   "metadata": {},
   "source": [
    "# **Entendendo o Negócio**\n",
    "\n",
    "## **Olist**\n",
    "\n",
    "A **Olist é uma startup brasileira** que atua no segmento de tecnologia para varejo. Basicamente, ela **atua facilitando a vida dos vendedores ao disponibilizar seus produtos em grandes varejistas onlines** (marketplaces). Com a Olist, os vendedores também podem gerenciar pedidos, produtos, estoques, entregas e pagamentos em um único ambiente. \n",
    "\n",
    "Para mais informações, veja como a Olist funciona em mais detalhes nesse link: https://olist.com/blog/pt/olist/o-que-e-olist-2/\n",
    "\n",
    "## **Problema**\n",
    "\n",
    "Utilizando dados obtidos aleatóriamente da Olist — e devidamente censurados quanto às informações sensíveis de clientes e vendedores — o objetivo do projeto é produzir uma ferramenta para extrair informações cruciais de reviews de venda de produtos e apartir disso detectar problemas quanto ao produto ou entrega.\n",
    "\n",
    "## **Dados**\n",
    "\n",
    "Os dados que serão utilizados neste projeto foram obtidos na plataforma Kaggle por esse link: https://www.kaggle.com/datasets/olistbr/brazilian-ecommerce\n",
    "\n",
    "Quanto à licença, os **datasets estão disponibilizados pela licença CC BY-NC-SA 4.0 DEED**, e você pode encontrar uma cópia dela nesse link: https://creativecommons.org/licenses/by-nc-sa/4.0/\n",
    "\n",
    "## **Solução**\n",
    "\n",
    "A solução para o problema em questão será disponibilizada por meio de um dashboard no qual poderemos acompanhar para cada vendedor:\n",
    "\n",
    "* o grau de satisfação dos clientes no decorrer do tempo — esta métrica deverá considerar a avaliação em estrelas e reviews escritas dos clientes;\n",
    "\n",
    "* os principais problemas em relação aos produtos;\n",
    "\n",
    "* os principais problemas em relação às entregas.\n",
    "\n",
    "\n",
    "Considerando essas funcionalidades, posso prever que o projeto exijirá:\n",
    "\n",
    "* Análise NLP das reviews das vendas;\n",
    "\n",
    "* Detectar reviews relacionadas à produtos e entregas (separadamente);\n",
    "\n",
    "* Estimar grau de sentimento das reviews;\n",
    "\n",
    "* Criação de uma aplicação dashboard.\n",
    "\n",
    "## **Motodologia**\n",
    "\n",
    "Este projeto usa como base a metodologia CRISP-DM como base. A saber, o projeto é divido em (apenas notebooks):\n",
    "\n",
    "1. **Entendimento dos negócios** (este notebook)\n",
    "\n",
    "2. **Ingestão de dados**\n",
    "\n",
    "3. **Análise exploratória de dados**\n",
    "\n",
    "4. a definir ainda"
   ]
  }
 ],
 "metadata": {
  "language_info": {
   "name": "python"
  }
 },
 "nbformat": 4,
 "nbformat_minor": 2
}
