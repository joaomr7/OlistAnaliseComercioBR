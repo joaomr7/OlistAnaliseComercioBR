{
 "cells": [
  {
   "cell_type": "markdown",
   "metadata": {},
   "source": [
    "# **Entendendo o Negócio**\n",
    "\n",
    "## **Olist**\n",
    "\n",
    "A **Olist é uma startup brasileira** especializada em tecnologia para varejo. Sua principal atuação consite em **facilitar a vida dos vendedores ao disponibilizar seus produtos em grandes varejistas onlines** (marketplaces). A Olist oferece aos vendedores a gestão de pedidos, produtos, estoques, entregas e pagamentos, tudo em um único ambiente.\n",
    "\n",
    "Para mais informações, veja como a Olist funciona em mais detalhes nesse link: https://olist.com/blog/pt/olist/o-que-e-olist-2/\n",
    "\n",
    "## **Dados**\n",
    "\n",
    "Os dados que serão utilizados neste projeto foram obtidos na plataforma Kaggle por esse link: https://www.kaggle.com/datasets/olistbr/brazilian-ecommerce\n",
    "\n",
    "Quanto à licença, os **datasets estão disponibilizados pela licença CC BY-NC-SA 4.0 DEED**, e você pode encontrar uma cópia dela nesse link: https://creativecommons.org/licenses/by-nc-sa/4.0/\n",
    "\n",
    "## **Problema**\n",
    "\n",
    "Utilizando dados forncercidos gratuitamente pela Olist, o objetivo deste projeto é produzir um dashboard que permitirá analisar informações cruciais de vendas e avaliações dos clientes. Este dashboard conterá informações como:\n",
    "\n",
    "* Volume de pedidos e receita no decorrer do tempo.\n",
    "\n",
    "* Grau de satisfação dos clientes.\n",
    "\n",
    "* Principais problemas relacionados a produtos, entregas e vendedores.\n",
    "\n",
    "Com essas informações, a empresa Olist poderá identificar tendências de vendas em diferentes períodos do ano e detectar facilmente problemas relacionados a produtos, entregas e vendedores. Isso possibilitará a tomada de decisões estratégicas para solucionar desafios e fornecer insights valiosos aos vendedores que utilizam a plataforma para comercializar seus produtos.\n",
    "\n",
    "## **Solução**\n",
    "\n",
    "Considerando as funcionalidades que constarão no dashboard, prevê-se que o projeto exijirá:\n",
    "\n",
    "* Análise dos pedidos para extrair informções quanto a volume de venda e receita, além da análise de satisfação dos clientes.\n",
    "\n",
    "* Análise de Processamento de Linguagem Natural (NLP) das avalições de vendas para indentificar problemas ligados a produtos, entregas ou vendedores.\n",
    "\n",
    "* Criação de uma aplicativo de dashboard utilizando a ferramenta Streamlit.\n",
    "\n",
    "## **Motodologia**\n",
    "\n",
    "Este projeto esta divido nas seguintes etapas:\n",
    "\n",
    "1. **Entendimento dos negócios** (este notebook)\n",
    "\n",
    "2. **Ingestão de dados**\n",
    "\n",
    "3. **Análise exploratória de dados**\n",
    "\n",
    "4. **Produção do dashboard**"
   ]
  }
 ],
 "metadata": {
  "language_info": {
   "name": "python"
  }
 },
 "nbformat": 4,
 "nbformat_minor": 2
}
